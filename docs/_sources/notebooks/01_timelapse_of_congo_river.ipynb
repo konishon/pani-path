{
 "cells": [
  {
   "cell_type": "markdown",
   "metadata": {},
   "source": [
    "# NDVI Generation using VirtuGhan\n",
    "https://github.com/kshitijrajsharma/VirtuGhan "
   ]
  },
  {
   "cell_type": "code",
   "execution_count": 1,
   "metadata": {},
   "outputs": [],
   "source": [
    "import ee\n",
    "import geemap\n",
    "import geopandas as gpd\n",
    "import pandas as pd\n",
    "import matplotlib.pyplot as plt\n",
    "import leafmap"
   ]
  },
  {
   "cell_type": "code",
   "execution_count": 2,
   "metadata": {},
   "outputs": [
    {
     "data": {
      "text/html": [
       "\n",
       "            <style>\n",
       "                .geemap-dark {\n",
       "                    --jp-widgets-color: white;\n",
       "                    --jp-widgets-label-color: white;\n",
       "                    --jp-ui-font-color1: white;\n",
       "                    --jp-layout-color2: #454545;\n",
       "                    background-color: #383838;\n",
       "                }\n",
       "\n",
       "                .geemap-dark .jupyter-button {\n",
       "                    --jp-layout-color3: #383838;\n",
       "                }\n",
       "\n",
       "                .geemap-colab {\n",
       "                    background-color: var(--colab-primary-surface-color, white);\n",
       "                }\n",
       "\n",
       "                .geemap-colab .jupyter-button {\n",
       "                    --jp-layout-color3: var(--colab-primary-surface-color, white);\n",
       "                }\n",
       "            </style>\n",
       "            "
      ],
      "text/plain": [
       "<IPython.core.display.HTML object>"
      ]
     },
     "metadata": {},
     "output_type": "display_data"
    }
   ],
   "source": [
    "import os, shutil\n",
    "\n",
    "output_dir = \"virtughan_output_cloud_10\"\n",
    "if os.path.exists(output_dir):\n",
    "    shutil.rmtree(output_dir)"
   ]
  },
  {
   "cell_type": "code",
   "execution_count": 3,
   "metadata": {},
   "outputs": [
    {
     "data": {
      "text/html": [
       "\n",
       "            <style>\n",
       "                .geemap-dark {\n",
       "                    --jp-widgets-color: white;\n",
       "                    --jp-widgets-label-color: white;\n",
       "                    --jp-ui-font-color1: white;\n",
       "                    --jp-layout-color2: #454545;\n",
       "                    background-color: #383838;\n",
       "                }\n",
       "\n",
       "                .geemap-dark .jupyter-button {\n",
       "                    --jp-layout-color3: #383838;\n",
       "                }\n",
       "\n",
       "                .geemap-colab {\n",
       "                    background-color: var(--colab-primary-surface-color, white);\n",
       "                }\n",
       "\n",
       "                .geemap-colab .jupyter-button {\n",
       "                    --jp-layout-color3: var(--colab-primary-surface-color, white);\n",
       "                }\n",
       "            </style>\n",
       "            "
      ],
      "text/plain": [
       "<IPython.core.display.HTML object>"
      ]
     },
     "metadata": {},
     "output_type": "display_data"
    },
    {
     "name": "stdout",
     "output_type": "stream",
     "text": [
      "Extracted BBOX: [np.float64(15.192582250690464), np.float64(-4.389991985869003), np.float64(15.405144373610312), np.float64(-4.23702926871141)]\n"
     ]
    }
   ],
   "source": [
    "import geopandas as gpd\n",
    "\n",
    "geemap.ee_initialize()geemap.ee_initialize()\n",
    "aoi_path = \"../data/aoi_boundary.geojson\"\n",
    "aoi = gpd.read_file(aoi_path)\n",
    "aoi = aoi.to_crs(\"EPSG:4326\")  # ensure it's in lat/lon\n",
    "\n",
    "bbox = list(aoi.total_bounds)\n",
    "print(\"Extracted BBOX:\", bbox)"
   ]
  },
  {
   "cell_type": "code",
   "execution_count": 4,
   "metadata": {},
   "outputs": [
    {
     "data": {
      "text/html": [
       "\n",
       "            <style>\n",
       "                .geemap-dark {\n",
       "                    --jp-widgets-color: white;\n",
       "                    --jp-widgets-label-color: white;\n",
       "                    --jp-ui-font-color1: white;\n",
       "                    --jp-layout-color2: #454545;\n",
       "                    background-color: #383838;\n",
       "                }\n",
       "\n",
       "                .geemap-dark .jupyter-button {\n",
       "                    --jp-layout-color3: #383838;\n",
       "                }\n",
       "\n",
       "                .geemap-colab {\n",
       "                    background-color: var(--colab-primary-surface-color, white);\n",
       "                }\n",
       "\n",
       "                .geemap-colab .jupyter-button {\n",
       "                    --jp-layout-color3: var(--colab-primary-surface-color, white);\n",
       "                }\n",
       "            </style>\n",
       "            "
      ],
      "text/plain": [
       "<IPython.core.display.HTML object>"
      ]
     },
     "metadata": {},
     "output_type": "display_data"
    },
    {
     "name": "stdout",
     "output_type": "stream",
     "text": [
      "Engine starting...\n",
      "Searching STAC .....\n",
      "Total scenes found: 103\n",
      "Scenes covering input area: 48\n",
      "Scenes after removing overlaps: 37\n",
      "Using Parallel Processing...\n",
      "Computing Band Calculation: 100%|██████████| 37/37 [50:44<00:00, 82.30s/it]   \n",
      "Aggregating results...\n",
      "Saving aggregated result with colormap...\n",
      "Creating GIF and zipping TIFF files...\n",
      "Saved timeseries GIF to virtughan_output_cloud_10/output.gif\n",
      "Saved intermediate images ZIP to virtughan_output_cloud_10/tiff_files.zip\n"
     ]
    }
   ],
   "source": [
    "from vcube.engine import VCubeProcessor\n",
    "\n",
    "# Setup parameters\n",
    "start_date = \"2014-01-01\"\n",
    "end_date = \"2025-01-01\"\n",
    "cloud_cover = 10\n",
    "formula = \"(band2-band1)/(band2+band1)\"  # NDVI\n",
    "band1 = \"red\"\n",
    "band2 = \"nir\"\n",
    "operation = \"median\"\n",
    "timeseries = True\n",
    "workers = 10\n",
    "smart_filter = False\n",
    "\n",
    "processor = VCubeProcessor(\n",
    "    bbox,\n",
    "    start_date,\n",
    "    end_date,\n",
    "    cloud_cover,\n",
    "    formula,\n",
    "    band1,\n",
    "    band2,\n",
    "    operation,\n",
    "    timeseries,\n",
    "    output_dir,\n",
    "    workers=workers,\n",
    "    smart_filter=smart_filter\n",
    ")\n",
    "\n",
    "processor.compute()\n"
   ]
  },
  {
   "cell_type": "code",
   "execution_count": 5,
   "metadata": {},
   "outputs": [
    {
     "data": {
      "text/html": [
       "\n",
       "            <style>\n",
       "                .geemap-dark {\n",
       "                    --jp-widgets-color: white;\n",
       "                    --jp-widgets-label-color: white;\n",
       "                    --jp-ui-font-color1: white;\n",
       "                    --jp-layout-color2: #454545;\n",
       "                    background-color: #383838;\n",
       "                }\n",
       "\n",
       "                .geemap-dark .jupyter-button {\n",
       "                    --jp-layout-color3: #383838;\n",
       "                }\n",
       "\n",
       "                .geemap-colab {\n",
       "                    background-color: var(--colab-primary-surface-color, white);\n",
       "                }\n",
       "\n",
       "                .geemap-colab .jupyter-button {\n",
       "                    --jp-layout-color3: var(--colab-primary-surface-color, white);\n",
       "                }\n",
       "            </style>\n",
       "            "
      ],
      "text/plain": [
       "<IPython.core.display.HTML object>"
      ]
     },
     "metadata": {},
     "output_type": "display_data"
    },
    {
     "name": "stdout",
     "output_type": "stream",
     "text": [
      "✅ Timelapse created: aoi_ndvi_timelapse.gif\n"
     ]
    }
   ],
   "source": [
    "import glob\n",
    "import imageio\n",
    "\n",
    "# Get the output images\n",
    "image_files = sorted(glob.glob(f\"{output_dir}/*.png\"))\n",
    "\n",
    "# Create GIF\n",
    "gif_path = \"aoi_ndvi_timelapse.gif\"\n",
    "with imageio.get_writer(gif_path, mode=\"I\", duration=0.5) as writer:\n",
    "    for filename in image_files:\n",
    "        image = imageio.imread(filename)\n",
    "        writer.append_data(image)\n",
    "\n",
    "print(f\"✅ Timelapse created: {gif_path}\")\n"
   ]
  }
 ],
 "metadata": {
  "kernelspec": {
   "display_name": "Python 3 (ipykernel)",
   "language": "python",
   "name": "python3"
  },
  "language_info": {
   "codemirror_mode": {
    "name": "ipython",
    "version": 3
   },
   "file_extension": ".py",
   "mimetype": "text/x-python",
   "name": "python",
   "nbconvert_exporter": "python",
   "pygments_lexer": "ipython3",
   "version": "3.13.2"
  }
 },
 "nbformat": 4,
 "nbformat_minor": 4
}

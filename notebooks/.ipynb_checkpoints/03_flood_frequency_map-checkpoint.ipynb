{
 "cells": [
  {
   "cell_type": "markdown",
   "id": "4d0ac8e7-9285-4c09-82db-8ac228058212",
   "metadata": {},
   "source": [
    "# Flood Frequency Map in Kinshasa, DRC \n",
    "Kinshasa (/kɪnˈʃɑːsə/; French: [kinʃasa]; Lingala: Kinsásá), formerly named Léopoldville from 1881–1966 (Dutch: Leopoldstad), is the capital and largest city in the Democratic Republic of the Congo. "
   ]
  },
  {
   "cell_type": "markdown",
   "id": "ee0a8472-9733-4b01-9282-c300a6e6c6bf",
   "metadata": {},
   "source": [
    "## 1. Setup"
   ]
  },
  {
   "cell_type": "code",
   "execution_count": 2,
   "id": "0fbac7a9-dcf9-4dc8-9aa2-fcfac5ff2d97",
   "metadata": {},
   "outputs": [
    {
     "data": {
      "text/html": [
       "\n",
       "            <style>\n",
       "                .geemap-dark {\n",
       "                    --jp-widgets-color: white;\n",
       "                    --jp-widgets-label-color: white;\n",
       "                    --jp-ui-font-color1: white;\n",
       "                    --jp-layout-color2: #454545;\n",
       "                    background-color: #383838;\n",
       "                }\n",
       "\n",
       "                .geemap-dark .jupyter-button {\n",
       "                    --jp-layout-color3: #383838;\n",
       "                }\n",
       "\n",
       "                .geemap-colab {\n",
       "                    background-color: var(--colab-primary-surface-color, white);\n",
       "                }\n",
       "\n",
       "                .geemap-colab .jupyter-button {\n",
       "                    --jp-layout-color3: var(--colab-primary-surface-color, white);\n",
       "                }\n",
       "            </style>\n",
       "            "
      ],
      "text/plain": [
       "<IPython.core.display.HTML object>"
      ]
     },
     "metadata": {},
     "output_type": "display_data"
    }
   ],
   "source": [
    "import ee\n",
    "import geemap\n",
    "import datetime\n",
    "ee.Initialize()"
   ]
  },
  {
   "cell_type": "markdown",
   "id": "4b78fdc7-278b-46c5-b57a-2cb27b1ce629",
   "metadata": {},
   "source": [
    "## 2. Computation"
   ]
  },
  {
   "cell_type": "markdown",
   "id": "32615ff8-be1e-4867-9c7c-ec55f9442d1a",
   "metadata": {},
   "source": [
    "### 2.1. Data Aquistion and Assuption"
   ]
  },
  {
   "attachments": {},
   "cell_type": "markdown",
   "id": "6517ec87-ad83-4501-96e4-18dbf013ce3d",
   "metadata": {},
   "source": [
    "### 🌦️ Climate Seasons in Kinshasa, DRC\n",
    "\n",
    "Kinshasa experiences a tropical climate with two distinct seasons:\n",
    "\n",
    "| **Season**       | **Typical Months**             | **Remarks**                        |\n",
    "|------------------|-------------------------------|------------------------------------|\n",
    "| **Wet Season**   | October to May (peak: Nov–Dec) | Heavy rainfall, flooding likely    |\n",
    "| **Dry Season**   | June to September              | Minimal rainfall, baseline for comparison |\n",
    "\n",
    "To ensure meaningful flood detection using satellite imagery, we select one representative month from each season:\n",
    "- **Wet Season Month**: **December**\n",
    "- **Dry Season Month**: **July**\n",
    "\n",
    "Source: https://en.wikipedia.org/wiki/Kinshasa \n"
   ]
  },
  {
   "cell_type": "code",
   "execution_count": 3,
   "id": "375f8673-4f1c-47c8-ad5a-96814ec9586a",
   "metadata": {},
   "outputs": [
    {
     "data": {
      "text/html": [
       "\n",
       "            <style>\n",
       "                .geemap-dark {\n",
       "                    --jp-widgets-color: white;\n",
       "                    --jp-widgets-label-color: white;\n",
       "                    --jp-ui-font-color1: white;\n",
       "                    --jp-layout-color2: #454545;\n",
       "                    background-color: #383838;\n",
       "                }\n",
       "\n",
       "                .geemap-dark .jupyter-button {\n",
       "                    --jp-layout-color3: #383838;\n",
       "                }\n",
       "\n",
       "                .geemap-colab {\n",
       "                    background-color: var(--colab-primary-surface-color, white);\n",
       "                }\n",
       "\n",
       "                .geemap-colab .jupyter-button {\n",
       "                    --jp-layout-color3: var(--colab-primary-surface-color, white);\n",
       "                }\n",
       "            </style>\n",
       "            "
      ],
      "text/plain": [
       "<IPython.core.display.HTML object>"
      ]
     },
     "metadata": {},
     "output_type": "display_data"
    }
   ],
   "source": [
    "bbox = [15.14662579020479, -4.489460109907313, 15.681051457462889, -3.956485370168921]\n",
    "bounds = ee.Geometry.BBox(*bbox)\n",
    "\n",
    "# Load Sentinel-1 image collection\n",
    "s1 = ee.ImageCollection('COPERNICUS/S1_GRD')\n",
    "\n",
    "# Define years and wet/dry season definitions\n",
    "years = list(range(2016, 2024))  # 2016–2023\n",
    "seasons = [\n",
    "    {\"name\": \"wet\", \"start\": \"-12-01\", \"end\": \"-12-31\", \"palette\": \"navy\"},\n",
    "    {\"name\": \"dry\", \"start\": \"-07-01\", \"end\": \"-07-31\", \"palette\": \"lightskyblue\"},\n",
    "]\n"
   ]
  },
  {
   "cell_type": "markdown",
   "id": "3ab2e315-8dca-42ec-8c8b-cfd1fb052ffd",
   "metadata": {},
   "source": [
    "### Computing Seasonal Water and Flood Extent\n",
    "\n",
    "This section describes how seasonal water and flood extent are computed using Sentinel-1 VV band imagery.\n",
    "\n",
    "### Steps:\n",
    "- For each defined season (**wet** and **dry**), Sentinel-1 images are filtered over the Area of Interest (`bounds`) using the respective date ranges.\n",
    "- A **10th percentile composite** of the VV band is created to reduce noise and highlight low backscatter values (typically indicating water).\n",
    "- A **speckle filter** is applied using a focal mean with a 50-meter square kernel.\n",
    "- Water is classified using a **threshold** of VV < -15 dB.\n",
    "- Flooded areas are identified as locations where water is present in the **wet season** but **absent in the dry season**.\n",
    "- The **flood area is calculated in hectares** using pixel area statistics.\n",
    "\n",
    "The resulting Earth Engine image includes:\n",
    "- `flood`: Binary flood mask\n",
    "- `water`: Seasonal water presence (wet or dry)\n",
    "- Image properties like `year`, `flood_area`, etc.\n"
   ]
  },
  {
   "cell_type": "code",
   "execution_count": 4,
   "id": "6732bdc3-8284-450a-bbcf-28df653ebd33",
   "metadata": {},
   "outputs": [
    {
     "data": {
      "text/html": [
       "\n",
       "            <style>\n",
       "                .geemap-dark {\n",
       "                    --jp-widgets-color: white;\n",
       "                    --jp-widgets-label-color: white;\n",
       "                    --jp-ui-font-color1: white;\n",
       "                    --jp-layout-color2: #454545;\n",
       "                    background-color: #383838;\n",
       "                }\n",
       "\n",
       "                .geemap-dark .jupyter-button {\n",
       "                    --jp-layout-color3: #383838;\n",
       "                }\n",
       "\n",
       "                .geemap-colab {\n",
       "                    background-color: var(--colab-primary-surface-color, white);\n",
       "                }\n",
       "\n",
       "                .geemap-colab .jupyter-button {\n",
       "                    --jp-layout-color3: var(--colab-primary-surface-color, white);\n",
       "                }\n",
       "            </style>\n",
       "            "
      ],
      "text/plain": [
       "<IPython.core.display.HTML object>"
      ]
     },
     "metadata": {},
     "output_type": "display_data"
    }
   ],
   "source": [
    "\n",
    "def compute_seasonal_water(year):\n",
    "    season_images = []\n",
    "    for prop in seasons:\n",
    "        date_start = f\"{year}{prop['start']}\"\n",
    "        date_end = f\"{year}{prop['end']}\"\n",
    "        \n",
    "        image = (\n",
    "            s1\n",
    "            .filterBounds(bounds)\n",
    "            .filterDate(date_start, date_end)\n",
    "            .filter(ee.Filter.eq('transmitterReceiverPolarisation', ['VV', 'VH']))\n",
    "            .select('VV')\n",
    "        )\n",
    "        \n",
    "        # Composite, clip, speckle filter\n",
    "        image_min = (\n",
    "            image.reduce(ee.Reducer.percentile([10]))\n",
    "            .clip(bounds)\n",
    "            .focal_mean(50, 'square', 'meters')\n",
    "        )\n",
    "        \n",
    "        # Create water mask from threshold\n",
    "        water = image_min.lt(-15).toByte().rename(f\"water_{prop['name']}\")\n",
    "        season_images.append(water)\n",
    "    \n",
    "    # Get flood: water in wet season but dry in dry season\n",
    "    water_wet = season_images[0]\n",
    "    water_dry = season_images[1]\n",
    "    flood = water_wet.And(water_dry.eq(0)).rename('flood').toByte()\n",
    "    \n",
    "    # Combine water masks\n",
    "    water_all = water_dry.Or(water_wet).rename('water')\n",
    "    \n",
    "    # Compute flood area in ha\n",
    "    flood_area = ee.Image.pixelArea().multiply(1e-4).updateMask(flood).reduceRegion(\n",
    "        reducer=ee.Reducer.sum(),\n",
    "        geometry=bounds,\n",
    "        scale=100,\n",
    "        maxPixels=1e13\n",
    "    ).get('area')\n",
    "    \n",
    "    return ee.Image([flood.selfMask(), water_all]).set({\n",
    "        'year': str(year),\n",
    "        'year_num': year,\n",
    "        'flood_area': flood_area\n",
    "    })\n",
    "\n",
    "\n"
   ]
  },
  {
   "cell_type": "markdown",
   "id": "ec1ca5e7-d59f-4dfc-b50b-05539ac361cd",
   "metadata": {},
   "source": [
    "### **Flood Hazard Index Calculation**\n",
    "\n",
    "The **Flood Hazard Index (FHI)** is used to measure how frequently an area floods over a period of time. It is calculated by averaging flood occurrences over multiple years, providing insight into the flood frequency. A **high Flood Hazard Index** means the area floods regularly, and a **low Flood Hazard Index** means the area floods rarely or never.\n",
    "\n",
    "#### **Formula to Calculate Flood Hazard Index**\n",
    "\n",
    "Flood Hazard Index = (Number of Floods over the Years) / (Total Number of Years)\n",
    "\n",
    "Where:\n",
    "- `1` means the area flooded during the year.\n",
    "- `0` means the area did not flood during that year.\n",
    "\n",
    "---\n",
    "\n",
    "##### **Example 1: Area with Frequent Flooding**\n",
    "\n",
    "**Flood Data (1 = Flood, 0 = No Flood):**\n",
    "\n",
    "| Year  | Flood Occurrence |\n",
    "|-------|------------------|\n",
    "| 2016  | 1 (Flood)        |\n",
    "| 2017  | 1 (Flood)        |\n",
    "| 2018  | 1 (Flood)        |\n",
    "\n",
    "- **Pixel flooded every year**.\n",
    "\n",
    "**Flood Hazard Index Calculation:**\n",
    "\n",
    "Flood Hazard Index = (1 + 1 + 1) / 3 = 3 / 3 = **1**\n",
    "\n",
    "- **Flood Hazard Index = 1**: This means the area flooded **every year**.\n",
    "\n",
    "---\n",
    "\n",
    "##### **Example 2: Area with Occasional Flooding**\n",
    "\n",
    "**Flood Data (1 = Flood, 0 = No Flood):**\n",
    "\n",
    "| Year  | Flood Occurrence |\n",
    "|-------|------------------|\n",
    "| 2016  | 0 (No Flood)     |\n",
    "| 2017  | 1 (Flood)        |\n",
    "| 2018  | 0 (No Flood)     |\n",
    "\n",
    "- **Pixel flooded in 2017 only**.\n",
    "\n",
    "**Flood Hazard Index Calculation:**\n",
    "\n",
    "Flood Hazard Index = (0 + 1 + 0) / 3 = 1 / 3 = **0.33**\n",
    "\n",
    "- **Flood Hazard Index = 0.33**: This means the area flooded **once** during the period.\n",
    "\n",
    "---\n",
    "\n",
    "##### **Example 3: Area with No Flooding**\n",
    "\n",
    "**Flood Data (1 = Flood, 0 = No Flood):**\n",
    "\n",
    "| Year  | Flood Occurrence |\n",
    "|-------|------------------|\n",
    "| 2016  | 0 (No Flood)     |\n",
    "| 2017  | 0 (No Flood)     |\n",
    "| 2018  | 0 (No Flood)     |\n",
    "\n",
    "- **Pixel never flooded**.\n",
    "\n",
    "**Flood Hazard Index Calculation:**\n",
    "\n",
    "Flood Hazard Index = (0 + 0 + 0) / 3 = 0 / 3 = **0**\n",
    "\n",
    "- **Flood Hazard Index = 0**: This means the area **never flooded** over the years.\n",
    "\n",
    "---\n",
    "\n",
    "##### **Summary:**\n",
    "1. **Flood Hazard Index = 1**: The area flooded **every year** (high hazard).\n",
    "2. **Flood Hazard Index = 0.33**: The area flooded **occasionally**.\n",
    "3. **Flood Hazard Index = 0**: The area **never flooded** (low hazard).\n",
    "\n",
    "---\n",
    "\n",
    "\n"
   ]
  },
  {
   "cell_type": "code",
   "execution_count": 5,
   "id": "7f98f1ef-5257-4d3e-93c0-6d0440aa9d63",
   "metadata": {},
   "outputs": [
    {
     "data": {
      "text/html": [
       "\n",
       "            <style>\n",
       "                .geemap-dark {\n",
       "                    --jp-widgets-color: white;\n",
       "                    --jp-widgets-label-color: white;\n",
       "                    --jp-ui-font-color1: white;\n",
       "                    --jp-layout-color2: #454545;\n",
       "                    background-color: #383838;\n",
       "                }\n",
       "\n",
       "                .geemap-dark .jupyter-button {\n",
       "                    --jp-layout-color3: #383838;\n",
       "                }\n",
       "\n",
       "                .geemap-colab {\n",
       "                    background-color: var(--colab-primary-surface-color, white);\n",
       "                }\n",
       "\n",
       "                .geemap-colab .jupyter-button {\n",
       "                    --jp-layout-color3: var(--colab-primary-surface-color, white);\n",
       "                }\n",
       "            </style>\n",
       "            "
      ],
      "text/plain": [
       "<IPython.core.display.HTML object>"
      ]
     },
     "metadata": {},
     "output_type": "display_data"
    }
   ],
   "source": [
    "# Apply across all years\n",
    "image_collection = ee.ImageCollection([compute_seasonal_water(y) for y in years])\n",
    "\n",
    "# Flood hazard index: how often flood occurred\n",
    "flood_hazard = image_collection.select('flood').sum().divide(len(years))\n",
    "flood_hazard_vis = {'min': 0, 'max': 1, 'palette': ['white', 'pink', 'red']}"
   ]
  },
  {
   "cell_type": "markdown",
   "id": "980c68b5-c00a-4ead-ae3b-89408bc58aef",
   "metadata": {},
   "source": [
    "### Permanent Water\n",
    "We mark pixels as \"permanent water\" if water was detected in **both wet and dry seasons every year**.\n",
    "Additionally, we exclude any pixels marked as flood hazard (since they change over time)."
   ]
  },
  {
   "cell_type": "code",
   "execution_count": 6,
   "id": "4fd43f0e-6011-412d-b29e-aec2626daa5d",
   "metadata": {},
   "outputs": [
    {
     "data": {
      "text/html": [
       "\n",
       "            <style>\n",
       "                .geemap-dark {\n",
       "                    --jp-widgets-color: white;\n",
       "                    --jp-widgets-label-color: white;\n",
       "                    --jp-ui-font-color1: white;\n",
       "                    --jp-layout-color2: #454545;\n",
       "                    background-color: #383838;\n",
       "                }\n",
       "\n",
       "                .geemap-dark .jupyter-button {\n",
       "                    --jp-layout-color3: #383838;\n",
       "                }\n",
       "\n",
       "                .geemap-colab {\n",
       "                    background-color: var(--colab-primary-surface-color, white);\n",
       "                }\n",
       "\n",
       "                .geemap-colab .jupyter-button {\n",
       "                    --jp-layout-color3: var(--colab-primary-surface-color, white);\n",
       "                }\n",
       "            </style>\n",
       "            "
      ],
      "text/plain": [
       "<IPython.core.display.HTML object>"
      ]
     },
     "metadata": {},
     "output_type": "display_data"
    }
   ],
   "source": [
    "water_permanent = image_collection.select('water').reduce(ee.Reducer.allNonZero()).And(flood_hazard.mask().eq(0))"
   ]
  },
  {
   "cell_type": "markdown",
   "id": "f5d5b8bd-5a2b-497e-a581-661a647ba08a",
   "metadata": {},
   "source": [
    "## 3. Visulazation"
   ]
  },
  {
   "cell_type": "markdown",
   "id": "9d42b07e-e2a2-4b18-9f0f-261ca8f90ef4",
   "metadata": {},
   "source": [
    "## 3.1. Plot flood area chart"
   ]
  },
  {
   "cell_type": "code",
   "execution_count": 7,
   "id": "6c099034-9953-4f03-a88d-b16c09bf10ce",
   "metadata": {},
   "outputs": [
    {
     "data": {
      "text/html": [
       "\n",
       "            <style>\n",
       "                .geemap-dark {\n",
       "                    --jp-widgets-color: white;\n",
       "                    --jp-widgets-label-color: white;\n",
       "                    --jp-ui-font-color1: white;\n",
       "                    --jp-layout-color2: #454545;\n",
       "                    background-color: #383838;\n",
       "                }\n",
       "\n",
       "                .geemap-dark .jupyter-button {\n",
       "                    --jp-layout-color3: #383838;\n",
       "                }\n",
       "\n",
       "                .geemap-colab {\n",
       "                    background-color: var(--colab-primary-surface-color, white);\n",
       "                }\n",
       "\n",
       "                .geemap-colab .jupyter-button {\n",
       "                    --jp-layout-color3: var(--colab-primary-surface-color, white);\n",
       "                }\n",
       "            </style>\n",
       "            "
      ],
      "text/plain": [
       "<IPython.core.display.HTML object>"
      ]
     },
     "metadata": {},
     "output_type": "display_data"
    },
    {
     "data": {
      "image/png": "[encoded data removed]",
      "text/plain": [
       "<Figure size 1000x500 with 1 Axes>"
      ]
     },
     "metadata": {},
     "output_type": "display_data"
    }
   ],
   "source": [
    "import numpy as np\n",
    "import pandas as pd\n",
    "import matplotlib.pyplot as plt\n",
    "\n",
    "\n",
    "flood_stats = image_collection.aggregate_array('flood_area').getInfo()\n",
    "flood_areas = [round(a, 2) if a else 0 for a in flood_stats]\n",
    "years_int = [int(y) for y in years]\n",
    "\n",
    "\n",
    "df = pd.DataFrame({'Year': years_int, 'Flood Area (Ha)': flood_areas})\n",
    "\n",
    "# Create bar chart\n",
    "fig, ax = plt.subplots(figsize=(10, 5))\n",
    "bars = ax.bar(df['Year'], df['Flood Area (Ha)'], color='lightskyblue', label='Flood Area')\n",
    "\n",
    "# Fit linear regression\n",
    "z = np.polyfit(df['Year'], df['Flood Area (Ha)'], 1)\n",
    "p = np.poly1d(z)\n",
    "ax.plot(df['Year'], p(df['Year']), color='darkred', linestyle='--', label='Trend line')\n",
    "\n",
    "ax.set_title('Flood Area (Ha) 2016–2023')\n",
    "ax.set_ylabel('Area (Ha)')\n",
    "ax.set_xlabel('Year')\n",
    "ax.grid(axis='y')\n",
    "ax.legend()\n",
    "\n",
    "plt.tight_layout()\n",
    "plt.show()\n"
   ]
  },
  {
   "cell_type": "markdown",
   "id": "6532025f-9108-43eb-bedd-e76c3fb421c7",
   "metadata": {},
   "source": [
    "## 3.2. Display on interactive map"
   ]
  },
  {
   "cell_type": "code",
   "execution_count": 8,
   "id": "993528de-481f-4544-8d94-eee47a3a4929",
   "metadata": {},
   "outputs": [
    {
     "data": {
      "text/html": [
       "\n",
       "            <style>\n",
       "                .geemap-dark {\n",
       "                    --jp-widgets-color: white;\n",
       "                    --jp-widgets-label-color: white;\n",
       "                    --jp-ui-font-color1: white;\n",
       "                    --jp-layout-color2: #454545;\n",
       "                    background-color: #383838;\n",
       "                }\n",
       "\n",
       "                .geemap-dark .jupyter-button {\n",
       "                    --jp-layout-color3: #383838;\n",
       "                }\n",
       "\n",
       "                .geemap-colab {\n",
       "                    background-color: var(--colab-primary-surface-color, white);\n",
       "                }\n",
       "\n",
       "                .geemap-colab .jupyter-button {\n",
       "                    --jp-layout-color3: var(--colab-primary-surface-color, white);\n",
       "                }\n",
       "            </style>\n",
       "            "
      ],
      "text/plain": [
       "<IPython.core.display.HTML object>"
      ]
     },
     "metadata": {},
     "output_type": "display_data"
    },
    {
     "data": {
      "application/vnd.jupyter.widget-view+json": {
       "model_id": "06806a5f89f84982bb69291dbbbbc487",
       "version_major": 2,
       "version_minor": 0
      },
      "text/plain": [
       "Map(center=[0, 0], controls=(WidgetControl(options=['position', 'transparent_bg'], widget=SearchDataGUI(childr…"
      ]
     },
     "execution_count": 8,
     "metadata": {},
     "output_type": "execute_result"
    }
   ],
   "source": [
    "\n",
    "Map = geemap.Map()\n",
    "Map.centerObject(bounds)\n",
    "Map.setOptions('HYBRID')\n",
    "\n",
    "Map.addLayer(flood_hazard, flood_hazard_vis, 'Flood Hazard Index')\n",
    "Map.addLayer(water_permanent.selfMask(), {'palette': ['blue']}, 'Permanent Water')\n",
    "Map.addLayer(ee.Image().paint(ee.FeatureCollection([ee.Feature(bounds)]), 0, 2), {'palette': 'red'}, 'Boundary')\n",
    "\n",
    "\n",
    "flood_stats = image_collection.aggregate_array('flood_area').getInfo()\n",
    "chart_data = {\n",
    "    'Year': years,\n",
    "    'Flood Area (Ha)': [round(a, 2) if a else 0 for a in flood_stats]\n",
    "}\n",
    "\n",
    "Map"
   ]
  },
  {
   "cell_type": "markdown",
   "id": "5878700c-2e46-416b-b3a8-c0b7c80171c1",
   "metadata": {},
   "source": [
    "### Export flood hazard map to local GeoTIFF"
   ]
  },
  {
   "cell_type": "code",
   "execution_count": null,
   "id": "fd1d31d2-bbd6-4e67-83cf-48f69423059e",
   "metadata": {},
   "outputs": [
    {
     "data": {
      "text/html": [
       "\n",
       "            <style>\n",
       "                .geemap-dark {\n",
       "                    --jp-widgets-color: white;\n",
       "                    --jp-widgets-label-color: white;\n",
       "                    --jp-ui-font-color1: white;\n",
       "                    --jp-layout-color2: #454545;\n",
       "                    background-color: #383838;\n",
       "                }\n",
       "\n",
       "                .geemap-dark .jupyter-button {\n",
       "                    --jp-layout-color3: #383838;\n",
       "                }\n",
       "\n",
       "                .geemap-colab {\n",
       "                    background-color: var(--colab-primary-surface-color, white);\n",
       "                }\n",
       "\n",
       "                .geemap-colab .jupyter-button {\n",
       "                    --jp-layout-color3: var(--colab-primary-surface-color, white);\n",
       "                }\n",
       "            </style>\n",
       "            "
      ],
      "text/plain": [
       "<IPython.core.display.HTML object>"
      ]
     },
     "metadata": {},
     "output_type": "display_data"
    },
    {
     "name": "stdout",
     "output_type": "stream",
     "text": [
      "Generating URL ...\n",
      "Downloading data from https://earthengine.googleapis.com/v1/projects/11280955351/thumbnails/19983d5ad734df07296571f4cb5eafcd-4131b0c548ef2da7366abd3f9e11aeb9:getPixels\n",
      "Please wait ...\n"
     ]
    }
   ],
   "source": [
    "import os\n",
    "os.makedirs(\"data/flood_hazard\", exist_ok=True)\n",
    "geemap.ee_export_image(\n",
    "    ee_object=flood_hazard,\n",
    "    filename='data/flood_hazard/hazard.tif',\n",
    "    scale=30,\n",
    "    region=bounds,\n",
    "    file_per_band=False\n",
    ")\n",
    "\n",
    "print(\"✅ flood_hazard exported to data/flood_hazard/hazard.tiff\")\n"
   ]
  }
 ],
 "metadata": {
  "kernelspec": {
   "display_name": "Python (geo)",
   "language": "python",
   "name": "geo"
  },
  "language_info": {
   "codemirror_mode": {
    "name": "ipython",
    "version": 3
   },
   "file_extension": ".py",
   "mimetype": "text/x-python",
   "name": "python",
   "nbconvert_exporter": "python",
   "pygments_lexer": "ipython3",
   "version": "3.13.2"
  }
 },
 "nbformat": 4,
 "nbformat_minor": 5
}
